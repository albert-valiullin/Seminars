{
 "cells": [
  {
   "cell_type": "markdown",
   "metadata": {},
   "source": [
    "# AI Community @ Семинар  №3\n",
    "## Домашнее задание 2\n",
    "### Базовое решение конкурса"
   ]
  },
  {
   "cell_type": "code",
   "execution_count": 1,
   "metadata": {
    "collapsed": true
   },
   "outputs": [],
   "source": [
    "import pandas as pd\n",
    "import numpy as np\n",
    "\n",
    "from sklearn.linear_model import LinearRegression"
   ]
  },
  {
   "cell_type": "code",
   "execution_count": 2,
   "metadata": {
    "collapsed": true
   },
   "outputs": [],
   "source": [
    "# Считаем данные\n",
    "train = pd.read_csv('data/data-train.csv', parse_dates=['Timestamp'])\n",
    "test = pd.read_csv('data/data-test.csv', parse_dates=['Timestamp'])"
   ]
  },
  {
   "cell_type": "code",
   "execution_count": 3,
   "metadata": {},
   "outputs": [
    {
     "data": {
      "text/html": [
       "<div>\n",
       "<style>\n",
       "    .dataframe thead tr:only-child th {\n",
       "        text-align: right;\n",
       "    }\n",
       "\n",
       "    .dataframe thead th {\n",
       "        text-align: left;\n",
       "    }\n",
       "\n",
       "    .dataframe tbody tr th {\n",
       "        vertical-align: top;\n",
       "    }\n",
       "</style>\n",
       "<table border=\"1\" class=\"dataframe\">\n",
       "  <thead>\n",
       "    <tr style=\"text-align: right;\">\n",
       "      <th></th>\n",
       "      <th>ID</th>\n",
       "      <th>Timestamp</th>\n",
       "      <th>Location</th>\n",
       "      <th>Category</th>\n",
       "    </tr>\n",
       "  </thead>\n",
       "  <tbody>\n",
       "    <tr>\n",
       "      <th>0</th>\n",
       "      <td>152187</td>\n",
       "      <td>2016-03-30 12:18:52.537</td>\n",
       "      <td>8</td>\n",
       "      <td>0</td>\n",
       "    </tr>\n",
       "    <tr>\n",
       "      <th>1</th>\n",
       "      <td>322276</td>\n",
       "      <td>2016-09-07 17:43:37.960</td>\n",
       "      <td>6</td>\n",
       "      <td>1</td>\n",
       "    </tr>\n",
       "    <tr>\n",
       "      <th>2</th>\n",
       "      <td>306252</td>\n",
       "      <td>2016-08-28 09:41:10.850</td>\n",
       "      <td>1</td>\n",
       "      <td>1</td>\n",
       "    </tr>\n",
       "  </tbody>\n",
       "</table>\n",
       "</div>"
      ],
      "text/plain": [
       "       ID               Timestamp  Location  Category\n",
       "0  152187 2016-03-30 12:18:52.537         8         0\n",
       "1  322276 2016-09-07 17:43:37.960         6         1\n",
       "2  306252 2016-08-28 09:41:10.850         1         1"
      ]
     },
     "execution_count": 3,
     "metadata": {},
     "output_type": "execute_result"
    }
   ],
   "source": [
    "train.head(3)"
   ]
  },
  {
   "cell_type": "code",
   "execution_count": 4,
   "metadata": {},
   "outputs": [
    {
     "data": {
      "text/html": [
       "<div>\n",
       "<style>\n",
       "    .dataframe thead tr:only-child th {\n",
       "        text-align: right;\n",
       "    }\n",
       "\n",
       "    .dataframe thead th {\n",
       "        text-align: left;\n",
       "    }\n",
       "\n",
       "    .dataframe tbody tr th {\n",
       "        vertical-align: top;\n",
       "    }\n",
       "</style>\n",
       "<table border=\"1\" class=\"dataframe\">\n",
       "  <thead>\n",
       "    <tr style=\"text-align: right;\">\n",
       "      <th></th>\n",
       "      <th>ID</th>\n",
       "      <th>Location</th>\n",
       "      <th>Timestamp</th>\n",
       "    </tr>\n",
       "  </thead>\n",
       "  <tbody>\n",
       "    <tr>\n",
       "      <th>0</th>\n",
       "      <td>662032</td>\n",
       "      <td>6</td>\n",
       "      <td>2017-08-25 12:02:07.603</td>\n",
       "    </tr>\n",
       "    <tr>\n",
       "      <th>1</th>\n",
       "      <td>527522</td>\n",
       "      <td>6</td>\n",
       "      <td>2017-03-11 08:39:41.213</td>\n",
       "    </tr>\n",
       "    <tr>\n",
       "      <th>2</th>\n",
       "      <td>443572</td>\n",
       "      <td>6</td>\n",
       "      <td>2016-12-11 13:30:50.660</td>\n",
       "    </tr>\n",
       "  </tbody>\n",
       "</table>\n",
       "</div>"
      ],
      "text/plain": [
       "       ID  Location               Timestamp\n",
       "0  662032         6 2017-08-25 12:02:07.603\n",
       "1  527522         6 2017-03-11 08:39:41.213\n",
       "2  443572         6 2016-12-11 13:30:50.660"
      ]
     },
     "execution_count": 4,
     "metadata": {},
     "output_type": "execute_result"
    }
   ],
   "source": [
    "test.head(3)"
   ]
  },
  {
   "cell_type": "code",
   "execution_count": 5,
   "metadata": {
    "collapsed": true
   },
   "outputs": [],
   "source": [
    "# Вычленим признаки\n",
    "train_hour = train.Timestamp.dt.hour\n",
    "train_minute = train.Timestamp.dt.minute\n",
    "\n",
    "test_hour = test.Timestamp.dt.hour\n",
    "test_minute = test.Timestamp.dt.minute"
   ]
  },
  {
   "cell_type": "code",
   "execution_count": 6,
   "metadata": {
    "collapsed": true
   },
   "outputs": [],
   "source": [
    "train_features = pd.DataFrame({\n",
    "    'hour': train_hour,\n",
    "    'minute': train_minute\n",
    "})\n",
    "\n",
    "test_features = pd.DataFrame({\n",
    "    'hour': test_hour,\n",
    "    'minute': test_minute\n",
    "})"
   ]
  },
  {
   "cell_type": "code",
   "execution_count": 7,
   "metadata": {},
   "outputs": [],
   "source": [
    "# Обучим линейную регрессию\n",
    "clf = LinearRegression()\n",
    "\n",
    "clf.fit(train_features, train.Category)\n",
    "regression_result = clf.predict(test_features)\n",
    "predicted_categories = (regression_result > np.median(regression_result)).astype(int)"
   ]
  },
  {
   "cell_type": "code",
   "execution_count": 8,
   "metadata": {
    "collapsed": true
   },
   "outputs": [],
   "source": [
    "# Сохраниим предсказания\n",
    "pd.DataFrame({\n",
    "    'id': test.ID,\n",
    "    'category': predicted_categories\n",
    "}).to_csv('submission.csv', index=False)"
   ]
  },
  {
   "cell_type": "markdown",
   "metadata": {},
   "source": [
    " "
   ]
  },
  {
   "cell_type": "code",
   "execution_count": 9,
   "metadata": {
    "collapsed": true
   },
   "outputs": [],
   "source": [
    "from sklearn.model_selection import cross_val_score\n",
    "from sklearn.metrics import make_scorer, accuracy_score\n",
    "from sklearn.linear_model import LogisticRegression, SGDRegressor"
   ]
  },
  {
   "cell_type": "code",
   "execution_count": 10,
   "metadata": {
    "collapsed": true
   },
   "outputs": [],
   "source": [
    "def my_metric(y_true, y_pred):\n",
    "    y_pred = (y_pred > np.median(y_pred)).astype(int)\n",
    "    return accuracy_score(y_true, y_pred)"
   ]
  },
  {
   "cell_type": "markdown",
   "metadata": {},
   "source": [
    "## kaggle 0.68 score solution"
   ]
  },
  {
   "cell_type": "code",
   "execution_count": 11,
   "metadata": {
    "collapsed": true
   },
   "outputs": [],
   "source": [
    "msk = np.random.rand(len(train)) < 0.8\n",
    "trn = train[msk]\n",
    "tst = train[~msk]\n",
    "\n",
    "trn_feat = pd.DataFrame({\n",
    "    'month': trn.Timestamp.dt.month,\n",
    "    'location': trn.Location\n",
    "})\n",
    "tst_feat = pd.DataFrame({\n",
    "    'month': tst.Timestamp.dt.month,\n",
    "    'location': tst.Location\n",
    "})"
   ]
  },
  {
   "cell_type": "code",
   "execution_count": 12,
   "metadata": {},
   "outputs": [
    {
     "data": {
      "text/plain": [
       "0.69710424129315796"
      ]
     },
     "execution_count": 12,
     "metadata": {},
     "output_type": "execute_result"
    }
   ],
   "source": [
    "reg = LinearRegression()\n",
    "# gives ~0.69\n",
    "\n",
    "# reg = LogisticRegression()\n",
    "# gives ~0.67\n",
    "\n",
    "# reg = LogisticRegression(class_weight={0: 0.605649, 1: 0.394351})\n",
    "# gives ~0.63\n",
    "\n",
    "# reg = SGDRegressor()\n",
    "# gives ~0.63-0.69\n",
    "\n",
    "reg.fit(trn_feat, trn.Category)\n",
    "res = reg.predict(tst_feat)\n",
    "pred = (res > np.median(res)).astype(int)\n",
    "# pred = res\n",
    "\n",
    "accuracy_score(tst.Category, pred)"
   ]
  },
  {
   "cell_type": "code",
   "execution_count": 13,
   "metadata": {},
   "outputs": [
    {
     "data": {
      "text/plain": [
       "array([ 0.69846359,  0.69695875,  0.69844889])"
      ]
     },
     "execution_count": 13,
     "metadata": {},
     "output_type": "execute_result"
    }
   ],
   "source": [
    "cross_val_score(reg, trn_feat, trn.Category, scoring=make_scorer(my_metric))"
   ]
  },
  {
   "cell_type": "markdown",
   "metadata": {},
   "source": [
    "## kaggle 0.62 score solution"
   ]
  },
  {
   "cell_type": "code",
   "execution_count": 14,
   "metadata": {
    "collapsed": true
   },
   "outputs": [],
   "source": [
    "import itertools as it\n",
    "def powerset(iterable):\n",
    "    \"powerset([1,2,3]) --> () (1,) (2,) (3,) (1,2) (1,3) (2,3) (1,2,3)\"\n",
    "    s = list(iterable)\n",
    "    return it.chain.from_iterable(it.combinations(s, r) for r in range(len(s)+1))\n",
    "\n",
    "# make all feature combinations\n",
    "features = list(powerset(['time', 'day', 'hour', 'id', 'location', 'minute', 'minutes', 'month', 'months', 'sec', 'year']))[1:]"
   ]
  },
  {
   "cell_type": "code",
   "execution_count": 15,
   "metadata": {
    "collapsed": true
   },
   "outputs": [],
   "source": [
    "msk = np.random.rand(len(train)) < 0.8\n",
    "trn = train[msk]\n",
    "tst = train[~msk]\n",
    "\n",
    "trn_feat = pd.DataFrame({\n",
    "    'time': trn.Timestamp.astype(np.int64) // 10 ** 6,\n",
    "    'hour': trn.Timestamp.dt.hour,\n",
    "    'minute': trn.Timestamp.dt.minute,\n",
    "    'minutes': trn.Timestamp.dt.hour * 60 + trn.Timestamp.dt.minute,\n",
    "    'day': trn.Timestamp.dt.day,\n",
    "    'month': trn.Timestamp.dt.month,\n",
    "    'months': trn.Timestamp.dt.year * 12 + trn.Timestamp.dt.month,\n",
    "    'sec': trn.Timestamp.dt.second,\n",
    "    'year': trn.Timestamp.dt.year,\n",
    "    'location': trn.Location,\n",
    "    'id': trn.ID\n",
    "})\n",
    "tst_feat = pd.DataFrame({\n",
    "    'time': tst.Timestamp.astype(np.int64) // 10 ** 6,\n",
    "    'hour': tst.Timestamp.dt.hour,\n",
    "    'minute': tst.Timestamp.dt.minute,\n",
    "    'minutes': tst.Timestamp.dt.hour * 60 + tst.Timestamp.dt.minute,\n",
    "    'day': tst.Timestamp.dt.day,\n",
    "    'month': tst.Timestamp.dt.month,\n",
    "    'months': tst.Timestamp.dt.year * 12 + tst.Timestamp.dt.month,\n",
    "    'sec': tst.Timestamp.dt.second,\n",
    "    'year': tst.Timestamp.dt.year,\n",
    "    'location': tst.Location,\n",
    "    'id': tst.ID\n",
    "})"
   ]
  },
  {
   "cell_type": "code",
   "execution_count": 16,
   "metadata": {
    "collapsed": true
   },
   "outputs": [],
   "source": [
    "comb_feat = []\n",
    "for fs in features:\n",
    "    rg = LinearRegression(n_jobs=4)\n",
    "    # gives ~0.72 with ('time', 'day', 'location', 'minute', 'month', 'months') \n",
    "    # or ('time', 'day', 'location', 'month', 'months')\n",
    "\n",
    "#     rg = LogisticRegression(n_jobs=4)\n",
    "    # gives ~0.67 with ('day', 'location', 'minute', 'month', 'months')\n",
    "    \n",
    "#     rg = LogisticRegression(n_jobs=4, class_weight={0: 0.605649, 1: 0.394351})\n",
    "    # gives ~0.64 with ('location', 'minute', 'minutes', 'month', 'year')\n",
    "\n",
    "#     rg = SGDRegressor()\n",
    "    # gives ~0.69 with ('location', 'month')\n",
    "\n",
    "    rg.fit(trn_feat.loc[:, fs], trn.Category)\n",
    "    rs = rg.predict(tst_feat.loc[:, fs])\n",
    "    prd = (rs > np.median(rs)).astype(int)\n",
    "#     prd = rs\n",
    "    comb_feat.append(accuracy_score(tst.Category, prd))"
   ]
  },
  {
   "cell_type": "code",
   "execution_count": 17,
   "metadata": {},
   "outputs": [
    {
     "name": "stdout",
     "output_type": "stream",
     "text": [
      "1118 0.728304375853\n",
      "('time', 'day', 'location', 'minute', 'month', 'months')\n"
     ]
    }
   ],
   "source": [
    "amax = np.array(comb_feat).argmax()\n",
    "print(amax, max(comb_feat))\n",
    "print(features[amax])"
   ]
  },
  {
   "cell_type": "code",
   "execution_count": 18,
   "metadata": {},
   "outputs": [
    {
     "data": {
      "text/plain": [
       "array([ 0.72650123,  0.7247836 ,  0.72582322])"
      ]
     },
     "execution_count": 18,
     "metadata": {},
     "output_type": "execute_result"
    }
   ],
   "source": [
    "f = ['time', 'day', 'location', 'month', 'months']\n",
    "\n",
    "reg = LinearRegression()\n",
    "\n",
    "reg.fit(trn_feat.loc[:, f], trn.Category)\n",
    "res = reg.predict(tst_feat.loc[:, f])\n",
    "pred = (res > np.median(res)).astype(int)\n",
    "\n",
    "cross_val_score(reg, trn_feat.loc[:, f], trn.Category, scoring=make_scorer(my_metric))"
   ]
  },
  {
   "cell_type": "markdown",
   "metadata": {
    "collapsed": true
   },
   "source": [
    " "
   ]
  },
  {
   "cell_type": "markdown",
   "metadata": {},
   "source": [
    "### \"Просто заванхотил все фичи\" © Николай Прокопцев"
   ]
  },
  {
   "cell_type": "code",
   "execution_count": 19,
   "metadata": {},
   "outputs": [],
   "source": [
    "trn_feat = pd.get_dummies(pd.DataFrame({\n",
    "    'time': train.Timestamp.astype(np.int64) // 10 ** 6,\n",
    "    'month': train.Timestamp.dt.month,\n",
    "    'location': train.Location,\n",
    "}), columns=['location', 'month'])\n",
    "\n",
    "tst_feat = pd.get_dummies(pd.DataFrame({\n",
    "    'time': test.Timestamp.astype(np.int64) // 10 ** 6,\n",
    "    'month': test.Timestamp.dt.month,\n",
    "    'location': test.Location\n",
    "}), columns=['location', 'month']).drop(['location_9', 'location_11'], 1)"
   ]
  },
  {
   "cell_type": "code",
   "execution_count": 20,
   "metadata": {},
   "outputs": [],
   "source": [
    "reg = LinearRegression()\n",
    "# gives ~0.80 with ['time' 'month' 'location'] and  (month, location) - one-hotted\n",
    "\n",
    "# reg = LogisticRegression()\n",
    "# gives ~0.81 with ['day', 'month', 'year', 'location'] and all are one-hotted\n",
    "\n",
    "reg.fit(trn_feat, train.Category)\n",
    "res = reg.predict(tst_feat)\n",
    "pred = (res > np.median(res)).astype(int)\n",
    "# pred = res"
   ]
  },
  {
   "cell_type": "code",
   "execution_count": 21,
   "metadata": {},
   "outputs": [
    {
     "data": {
      "text/plain": [
       "array([ 0.80568349,  0.81040971,  0.81310395,  0.80345585,  0.81335701])"
      ]
     },
     "execution_count": 21,
     "metadata": {},
     "output_type": "execute_result"
    }
   ],
   "source": [
    "cross_val_score(reg, trn_feat, train.Category, cv=5, scoring=make_scorer(my_metric))\n",
    "# cross_val_score(reg, trn_feat, train.Category, cv=5)"
   ]
  },
  {
   "cell_type": "code",
   "execution_count": null,
   "metadata": {
    "collapsed": true
   },
   "outputs": [],
   "source": []
  }
 ],
 "metadata": {
  "kernelspec": {
   "display_name": "Python 3",
   "language": "python",
   "name": "python3"
  },
  "language_info": {
   "codemirror_mode": {
    "name": "ipython",
    "version": 3
   },
   "file_extension": ".py",
   "mimetype": "text/x-python",
   "name": "python",
   "nbconvert_exporter": "python",
   "pygments_lexer": "ipython3",
   "version": "3.6.1"
  }
 },
 "nbformat": 4,
 "nbformat_minor": 2
}
